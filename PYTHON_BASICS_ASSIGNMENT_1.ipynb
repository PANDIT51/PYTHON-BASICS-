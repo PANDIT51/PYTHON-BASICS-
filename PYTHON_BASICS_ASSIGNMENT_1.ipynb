{
  "nbformat": 4,
  "nbformat_minor": 0,
  "metadata": {
    "colab": {
      "provenance": []
    },
    "kernelspec": {
      "name": "python3",
      "display_name": "Python 3"
    },
    "language_info": {
      "name": "python"
    }
  },
  "cells": [
    {
      "cell_type": "markdown",
      "source": [
        "## **Theoretical Questions**\n",
        "\n",
        "1- What is Python, and why is it popular?\n",
        "  > Python is a high-level, interpreted programming language. It is popular because it is easy to learn, has simple syntax, and is versatile for tasks like web development, data analysis, artificial intelligence, and more.\n",
        "\n",
        "2- What is an interpreter in Python?\n",
        "   > An interpreter executes Python code line by line, translating it into machine language so the computer can understand and run it.\n",
        "\n",
        "3- What are pre-defined keywords in Python?\n",
        "   > Keywords are reserved words in Python with specific meanings. Examples include if, else, for, while, and True.\n",
        "\n",
        "4- Can keywords be used as variable names?\n",
        "   > No, keywords cannot be used as variable names because they have predefined purposes in Python.\n",
        "\n",
        "5- What is mutability in Python?\n",
        "   > Mutability refers to whether an object’s value can be changed after it is created. Mutable objects (e.g., lists) can be modified, while immutable objects (e.g., tuples) cannot.\n",
        "\n",
        "6- Why are lists mutable, but tuples are immutable?\n",
        "   > Lists are designed to be flexible, allowing modifications like adding or removing elements. Tuples are immutable to ensure data consistency and faster performance in certain scenarios.\n",
        "\n",
        "7- What is the difference between == and is operators in Python?\n",
        "\n",
        "   > == checks if two values are equal.\n",
        "  is checks if two variables point to the same memory location.\n",
        "\n",
        "8- What are logical operators in Python?\n",
        "   > Logical operators are used to combine conditional statements:\n",
        "\n",
        "and: Returns True if both conditions are true.\n",
        "or: Returns True if at least one condition is true.\n",
        "not: Reverses the result of a condition.\n",
        "\n",
        "9- What is type casting in Python?\n",
        "   > Type casting is converting one data type to another, like converting a string to an integer.\n",
        "\n",
        "10- What is the difference between implicit and explicit type casting?\n",
        "\n",
        "  > Implicit: Python automatically converts data types (e.g., int to float).\n",
        "  > Explicit: The programmer manually converts data types using functions like int() or str().\n",
        "\n",
        "11- What is the purpose of conditional statements in Python?\n",
        "  > Conditional statements allow programs to make decisions based on conditions, such as if, elif, and else.\n",
        "\n",
        "12- How does the elif statement work?\n",
        "   > The elif statement lets you check multiple conditions in an if-elif-else block. It’s evaluated only if the previous conditions are false.\n",
        "\n",
        "13- What is the difference between for and while loops?\n",
        "\n",
        "   > for: Iterates over a sequence (like a list or range).\n",
        "   > while: Repeats as long as a condition is true.\n",
        "\n",
        "14- Describe a scenario where a while loop is more suitable than a for loop.\n",
        "   > A while loop is better when the number of iterations is not fixed, like waiting for user input or checking a condition repeatedly."
      ],
      "metadata": {
        "id": "DIkKDsXKPAV9"
      }
    },
    {
      "cell_type": "code",
      "execution_count": null,
      "metadata": {
        "id": "V-jcjfDoO7hA"
      },
      "outputs": [],
      "source": []
    },
    {
      "cell_type": "markdown",
      "source": [
        "# **Practical Questions Solutions**\n",
        "1- Write a Python program to print \"Hello, World!\"\n",
        "\n",
        "\n",
        "\n"
      ],
      "metadata": {
        "id": "WaoEo1gAV8C8"
      }
    },
    {
      "cell_type": "code",
      "source": [
        "print(\"Hello, World!\")\n"
      ],
      "metadata": {
        "colab": {
          "base_uri": "https://localhost:8080/"
        },
        "id": "dnCjr077XaIS",
        "outputId": "ed78ba3c-79f7-4ae9-ba2f-7ee337df1102"
      },
      "execution_count": 1,
      "outputs": [
        {
          "output_type": "stream",
          "name": "stdout",
          "text": [
            "Hello, World!\n"
          ]
        }
      ]
    },
    {
      "cell_type": "markdown",
      "source": [
        "2- Write a Python program that displays your name and age.\n",
        "\n"
      ],
      "metadata": {
        "id": "2GHO8FhEXpEY"
      }
    },
    {
      "cell_type": "code",
      "source": [
        "name = \"Dev Vashist\"\n",
        "age = 25  # Replace with your age\n",
        "print(f\"My name is {name} and I am {age} years old.\")\n"
      ],
      "metadata": {
        "colab": {
          "base_uri": "https://localhost:8080/"
        },
        "id": "okYL7cndXvf0",
        "outputId": "4580725c-3597-46a5-bbf2-bb097a2018fd"
      },
      "execution_count": 3,
      "outputs": [
        {
          "output_type": "stream",
          "name": "stdout",
          "text": [
            "My name is Dev Vashist and I am 25 years old.\n"
          ]
        }
      ]
    },
    {
      "cell_type": "markdown",
      "source": [
        "3- Write code to print all the pre-defined keywords in Python using the keyword library."
      ],
      "metadata": {
        "id": "XTwUQ_R1X8q6"
      }
    },
    {
      "cell_type": "code",
      "source": [
        "import keyword\n",
        "print(keyword.kwlist)\n"
      ],
      "metadata": {
        "colab": {
          "base_uri": "https://localhost:8080/"
        },
        "id": "JO-cfOXpX_au",
        "outputId": "59671c53-7bc4-4447-abb5-21bb20c5e654"
      },
      "execution_count": 4,
      "outputs": [
        {
          "output_type": "stream",
          "name": "stdout",
          "text": [
            "['False', 'None', 'True', 'and', 'as', 'assert', 'async', 'await', 'break', 'class', 'continue', 'def', 'del', 'elif', 'else', 'except', 'finally', 'for', 'from', 'global', 'if', 'import', 'in', 'is', 'lambda', 'nonlocal', 'not', 'or', 'pass', 'raise', 'return', 'try', 'while', 'with', 'yield']\n"
          ]
        }
      ]
    },
    {
      "cell_type": "markdown",
      "source": [
        "4- Write a program that checks if a given word is a Python keyword."
      ],
      "metadata": {
        "id": "HMwTgCIIYE6X"
      }
    },
    {
      "cell_type": "code",
      "source": [
        "import keyword\n",
        "word = input(\"Enter a word: \")\n",
        "if keyword.iskeyword(word):\n",
        "    print(f\"'{word}' is a Python keyword.\")\n",
        "else:\n",
        "    print(f\"'{word}' is not a Python keyword.\")\n"
      ],
      "metadata": {
        "colab": {
          "base_uri": "https://localhost:8080/"
        },
        "id": "3zKfEnnQbjiv",
        "outputId": "f42223f7-4f89-43b2-c0bc-e02c2e3653fb"
      },
      "execution_count": 11,
      "outputs": [
        {
          "output_type": "stream",
          "name": "stdout",
          "text": [
            "Enter a word: FALSE\n",
            "'FALSE' is not a Python keyword.\n"
          ]
        }
      ]
    },
    {
      "cell_type": "markdown",
      "source": [
        "5- Create a list and tuple in Python, and demonstrate how attempting to change an element works differently for each.\n"
      ],
      "metadata": {
        "id": "6dEi4WwQYJD1"
      }
    },
    {
      "cell_type": "code",
      "source": [
        "my_list = [1, 2, 3]\n",
        "my_tuple = (1, 2, 3)\n",
        "\n",
        "# Changing an element in the list\n",
        "my_list[0] = 10\n",
        "print(\"Modified list:\", my_list)\n",
        "\n",
        "# Trying to change an element in the tuple\n",
        "try:\n",
        "    my_tuple[0] = 10\n",
        "except TypeError:\n",
        "    print(\"Cannot modify a tuple!\")\n"
      ],
      "metadata": {
        "id": "eWWaZ0d3ZcgE"
      },
      "execution_count": null,
      "outputs": []
    },
    {
      "cell_type": "markdown",
      "source": [
        "6- Write a function to demonstrate the behavior of mutable and immutable arguments."
      ],
      "metadata": {
        "id": "PVUiJUkTYbJE"
      }
    },
    {
      "cell_type": "code",
      "source": [
        "def modify_data(data):\n",
        "    if isinstance(data, list):\n",
        "        data.append(100)\n",
        "    elif isinstance(data, int):\n",
        "        data += 100\n",
        "    print(\"Inside function:\", data)\n",
        "\n",
        "my_list = [1, 2, 3]\n",
        "my_int = 10\n",
        "\n",
        "modify_data(my_list)\n",
        "print(\"Outside function (list):\", my_list)\n",
        "\n",
        "modify_data(my_int)\n",
        "print(\"Outside function (int):\", my_int)\n"
      ],
      "metadata": {
        "id": "YTgda6GEYden"
      },
      "execution_count": null,
      "outputs": []
    },
    {
      "cell_type": "markdown",
      "source": [
        "\n",
        "7- Write a program to demonstrate the use of logical operators.\n"
      ],
      "metadata": {
        "id": "TDAg9QPWXySy"
      }
    },
    {
      "cell_type": "code",
      "source": [
        "a = 10\n",
        "b = 20\n",
        "\n",
        "# Using logical operators\n",
        "print(a > 5 and b > 15)  # True\n",
        "print(a > 15 or b > 15)  # True\n",
        "print(not (a > 15))      # True\n"
      ],
      "metadata": {
        "id": "NxTc1MzoZ2Kj"
      },
      "execution_count": null,
      "outputs": []
    },
    {
      "cell_type": "markdown",
      "source": [
        "8- Write a Python program to convert user input from string to integer, float, and boolean types."
      ],
      "metadata": {
        "id": "hMtakauuZ-NO"
      }
    },
    {
      "cell_type": "code",
      "source": [
        "user_input = input(\"Enter a value: \")\n",
        "\n",
        "int_value = int(user_input)\n",
        "float_value = float(user_input)\n",
        "bool_value = bool(user_input)\n",
        "\n",
        "print(\"Integer:\", int_value)\n",
        "print(\"Float:\", float_value)\n",
        "print(\"Boolean:\", bool_value)\n"
      ],
      "metadata": {
        "id": "Qowrw1XnaL6R"
      },
      "execution_count": null,
      "outputs": []
    },
    {
      "cell_type": "markdown",
      "source": [
        "9- Write code to demonstrate type casting with list elements.\n"
      ],
      "metadata": {
        "id": "O20sHLN_aX7I"
      }
    },
    {
      "cell_type": "code",
      "source": [
        "my_list = [\"1\", \"2\", \"3\"]\n",
        "int_list = [int(x) for x in my_list]\n",
        "print(\"Original list:\", my_list)\n",
        "print(\"Converted to integers:\", int_list)\n"
      ],
      "metadata": {
        "id": "W_kOCIv1agTs"
      },
      "execution_count": null,
      "outputs": []
    },
    {
      "cell_type": "markdown",
      "source": [
        "10- Write a program that checks if a number is positive, negative, or zero."
      ],
      "metadata": {
        "id": "GmEwVLkBalWX"
      }
    },
    {
      "cell_type": "code",
      "source": [
        "num = float(input(\"Enter a number: \"))\n",
        "if num > 0:\n",
        "    print(\"The number is positive.\")\n",
        "elif num < 0:\n",
        "    print(\"The number is negative.\")\n",
        "else:\n",
        "    print(\"The number is zero.\")\n"
      ],
      "metadata": {
        "id": "9BTVz677arro"
      },
      "execution_count": null,
      "outputs": []
    },
    {
      "cell_type": "markdown",
      "source": [
        "11- Write a for loop to print numbers from 1 to 10."
      ],
      "metadata": {
        "id": "BOreBT-ZauiZ"
      }
    },
    {
      "cell_type": "code",
      "source": [
        "for i in range(1, 11):\n",
        "    print(i)\n"
      ],
      "metadata": {
        "id": "5n2uZUcWa865"
      },
      "execution_count": null,
      "outputs": []
    },
    {
      "cell_type": "markdown",
      "source": [
        "12- Write a Python program to find the sum of all even numbers between 1 and 50."
      ],
      "metadata": {
        "id": "upzF4NFhbBt6"
      }
    },
    {
      "cell_type": "code",
      "source": [
        "total = 0\n",
        "for i in range(1, 51):\n",
        "    if i % 2 == 0:\n",
        "        total += i\n",
        "print(\"Sum of even numbers between 1 and 50:\", total)\n"
      ],
      "metadata": {
        "id": "QULt61sObJ73"
      },
      "execution_count": null,
      "outputs": []
    },
    {
      "cell_type": "markdown",
      "source": [
        "13-  Write a program to reverse a string using a while loop"
      ],
      "metadata": {
        "id": "pSL4DbLkbNVk"
      }
    },
    {
      "cell_type": "code",
      "source": [
        "string = input(\"Enter a string: \")\n",
        "reversed_string = \"\"\n",
        "i = len(string) - 1\n",
        "\n",
        "while i >= 0:\n",
        "    reversed_string += string[i]\n",
        "    i -= 1\n",
        "\n",
        "print(\"Reversed string:\", reversed_string)\n"
      ],
      "metadata": {
        "id": "v3P_eEyJbSeS"
      },
      "execution_count": null,
      "outputs": []
    },
    {
      "cell_type": "markdown",
      "source": [
        "14- Write a Python program to calculate the factorial of a number provided by the user using a while loop."
      ],
      "metadata": {
        "id": "bTGWTY2GbWnV"
      }
    },
    {
      "cell_type": "code",
      "source": [
        "num = int(input(\"Enter a number: \"))\n",
        "factorial = 1\n",
        "\n",
        "while num > 0:\n",
        "    factorial *= num\n",
        "    num -= 1\n",
        "\n",
        "print(\"Factorial:\", factorial)\n"
      ],
      "metadata": {
        "id": "2g265TJ4bcIW"
      },
      "execution_count": null,
      "outputs": []
    }
  ]
}